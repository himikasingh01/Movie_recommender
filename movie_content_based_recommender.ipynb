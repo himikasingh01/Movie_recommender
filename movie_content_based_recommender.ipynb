{
 "cells": [
  {
   "cell_type": "code",
   "execution_count": null,
   "id": "8ee46131-79da-45c8-8836-f501c9b6051b",
   "metadata": {},
   "outputs": [],
   "source": [
    "import pandas as pd"
   ]
  },
  {
   "cell_type": "markdown",
   "id": "4bc4e43a-0785-41c7-94b7-900dc8c6d0aa",
   "metadata": {},
   "source": [
    "LOADING DATASET "
   ]
  },
  {
   "cell_type": "code",
   "execution_count": null,
   "id": "0ef7961c-119a-4d79-ae39-9c55b36ccf4a",
   "metadata": {},
   "outputs": [],
   "source": [
    "movies = pd.read_csv(r\"C:\\\\Users\\\\Himika\\\\Desktop\\\\python\\\\data_science_project\\\\movies.csv\")\n",
    "ratings = pd.read_csv(r\"C:\\\\Users\\\\Himika\\\\Desktop\\\\python\\\\data_science_project\\\\ratings.csv\")"
   ]
  },
  {
   "cell_type": "code",
   "execution_count": null,
   "id": "788932ce-7619-4ad2-8f34-c3c90943e59c",
   "metadata": {},
   "outputs": [
    {
     "name": "stdout",
     "output_type": "stream",
     "text": [
      "   movieId                               title  \\\n",
      "0        1                    Toy Story (1995)   \n",
      "1        2                      Jumanji (1995)   \n",
      "2        3             Grumpier Old Men (1995)   \n",
      "3        4            Waiting to Exhale (1995)   \n",
      "4        5  Father of the Bride Part II (1995)   \n",
      "\n",
      "                                        genres  \n",
      "0  Adventure|Animation|Children|Comedy|Fantasy  \n",
      "1                   Adventure|Children|Fantasy  \n",
      "2                               Comedy|Romance  \n",
      "3                         Comedy|Drama|Romance  \n",
      "4                                       Comedy  \n",
      "   userId  movieId  rating   timestamp\n",
      "0       1      296     5.0  1147880044\n",
      "1       1      306     3.5  1147868817\n",
      "2       1      307     5.0  1147868828\n",
      "3       1      665     5.0  1147878820\n",
      "4       1      899     3.5  1147868510\n"
     ]
    }
   ],
   "source": [
    "print(movies.head())\n",
    "print(ratings.head())"
   ]
  },
  {
   "cell_type": "code",
   "execution_count": 35,
   "id": "b11828d8-ca94-4407-8c89-b5f09eddbe87",
   "metadata": {},
   "outputs": [
    {
     "data": {
      "text/html": [
       "<div>\n",
       "<style scoped>\n",
       "    .dataframe tbody tr th:only-of-type {\n",
       "        vertical-align: middle;\n",
       "    }\n",
       "\n",
       "    .dataframe tbody tr th {\n",
       "        vertical-align: top;\n",
       "    }\n",
       "\n",
       "    .dataframe thead th {\n",
       "        text-align: right;\n",
       "    }\n",
       "</style>\n",
       "<table border=\"1\" class=\"dataframe\">\n",
       "  <thead>\n",
       "    <tr style=\"text-align: right;\">\n",
       "      <th></th>\n",
       "      <th>movieId</th>\n",
       "      <th>title</th>\n",
       "      <th>genres</th>\n",
       "    </tr>\n",
       "  </thead>\n",
       "  <tbody>\n",
       "    <tr>\n",
       "      <th>3</th>\n",
       "      <td>4</td>\n",
       "      <td>Waiting to Exhale (1995)</td>\n",
       "      <td>Comedy|Drama|Romance</td>\n",
       "    </tr>\n",
       "  </tbody>\n",
       "</table>\n",
       "</div>"
      ],
      "text/plain": [
       "   movieId                     title                genres\n",
       "3        4  Waiting to Exhale (1995)  Comedy|Drama|Romance"
      ]
     },
     "execution_count": 35,
     "metadata": {},
     "output_type": "execute_result"
    }
   ],
   "source": [
    "movies[movies['title'].str.contains(\"waiting to\", case=False, na=False)]"
   ]
  },
  {
   "cell_type": "code",
   "execution_count": null,
   "id": "bf1f0156-1201-424b-94f1-668dd070fe9f",
   "metadata": {},
   "outputs": [],
   "source": [
    "movie_data = pd.merge(ratings, movies, on='movieId')"
   ]
  },
  {
   "cell_type": "code",
   "execution_count": null,
   "id": "f48207bc-2913-4e6a-9db2-efa34c48a9bc",
   "metadata": {},
   "outputs": [
    {
     "name": "stdout",
     "output_type": "stream",
     "text": [
      "   userId  movieId  rating   timestamp  \\\n",
      "0       1      296     5.0  1147880044   \n",
      "1       1      306     3.5  1147868817   \n",
      "2       1      307     5.0  1147868828   \n",
      "3       1      665     5.0  1147878820   \n",
      "4       1      899     3.5  1147868510   \n",
      "\n",
      "                                              title  \\\n",
      "0                               Pulp Fiction (1994)   \n",
      "1  Three Colors: Red (Trois couleurs: Rouge) (1994)   \n",
      "2  Three Colors: Blue (Trois couleurs: Bleu) (1993)   \n",
      "3                                Underground (1995)   \n",
      "4                        Singin' in the Rain (1952)   \n",
      "\n",
      "                        genres  \n",
      "0  Comedy|Crime|Drama|Thriller  \n",
      "1                        Drama  \n",
      "2                        Drama  \n",
      "3             Comedy|Drama|War  \n",
      "4       Comedy|Musical|Romance  \n"
     ]
    }
   ],
   "source": [
    "print(movie_data.head())"
   ]
  },
  {
   "cell_type": "code",
   "execution_count": null,
   "id": "049c078e-6440-458a-b3dd-3ea910b9d32a",
   "metadata": {},
   "outputs": [
    {
     "name": "stdout",
     "output_type": "stream",
     "text": [
      "   movieId                                             title  \\\n",
      "0      296                               Pulp Fiction (1994)   \n",
      "1      306  Three Colors: Red (Trois couleurs: Rouge) (1994)   \n",
      "2      307  Three Colors: Blue (Trois couleurs: Bleu) (1993)   \n",
      "3      665                                Underground (1995)   \n",
      "4      899                        Singin' in the Rain (1952)   \n",
      "\n",
      "                        genres  \n",
      "0  Comedy Crime Drama Thriller  \n",
      "1                        Drama  \n",
      "2                        Drama  \n",
      "3             Comedy Drama War  \n",
      "4       Comedy Musical Romance  \n"
     ]
    }
   ],
   "source": [
    "# Replace '|' with space for better vectorization\n",
    "movie_data['genres'] = movie_data['genres'].str.replace('|', ' ', regex=False)\n",
    "\n",
    "# Drop duplicates to keep one row per movie\n",
    "movies_unique = movie_data.drop_duplicates(subset='movieId')[['movieId', 'title', 'genres']]\n",
    "\n",
    "print(movies_unique.head())"
   ]
  },
  {
   "cell_type": "code",
   "execution_count": null,
   "id": "37871247-7064-437b-9d9b-9aaf16a62778",
   "metadata": {},
   "outputs": [
    {
     "name": "stdout",
     "output_type": "stream",
     "text": [
      "(59047, 59047)\n"
     ]
    }
   ],
   "source": [
    "from sklearn.feature_extraction.text import TfidfVectorizer\n",
    "from sklearn.metrics.pairwise import cosine_similarity\n",
    "\n",
    "# Initialize TF-IDF Vectorizer\n",
    "tfidf = TfidfVectorizer(stop_words='english')\n",
    "\n",
    "# Fit and transform the genres\n",
    "tfidf_matrix = tfidf.fit_transform(movies_unique['genres'])\n",
    "\n",
    "# Compute the cosine similarity matrix\n",
    "cosine_sim = cosine_similarity(tfidf_matrix, tfidf_matrix)\n",
    "\n",
    "# Check the shape (should be [num_movies x num_movies])\n",
    "print(cosine_sim.shape)"
   ]
  },
  {
   "cell_type": "code",
   "execution_count": null,
   "id": "db836a44-e916-4e48-9fe8-2f0a0574c29e",
   "metadata": {},
   "outputs": [
    {
     "name": "stdout",
     "output_type": "stream",
     "text": [
      "['Antz (1998)', 'Toy Story 2 (1999)', \"Emperor's New Groove, The (2000)\", 'Monsters, Inc. (2001)', 'Shrek the Third (2007)', 'Boxtrolls, The (2014)', 'Moana (2016)', 'Turbo (2013)', 'Adventures of Rocky and Bullwinkle, The (2000)', 'DuckTales: The Movie - Treasure of the Lost Lamp (1990)']\n"
     ]
    }
   ],
   "source": [
    "# Reset index to keep track of movie positions\n",
    "movies_unique = movies_unique.reset_index(drop=True)\n",
    "\n",
    "# Create a mapping from movie titles to index\n",
    "title_to_index = pd.Series(movies_unique.index, index=movies_unique['title'])\n",
    "\n",
    "# Recommendation function\n",
    "def recommend_movie(title, cosine_sim=cosine_sim):\n",
    "    if title not in title_to_index:\n",
    "        return [\"Movie not found. Try a different title.\"]\n",
    "    \n",
    "    idx = title_to_index[title]\n",
    "    sim_scores = list(enumerate(cosine_sim[idx]))\n",
    "    sim_scores = sorted(sim_scores, key=lambda x: x[1], reverse=True)[1:11]  # top 10 excluding itself\n",
    "    movie_indices = [i[0] for i in sim_scores]\n",
    "    return movies_unique['title'].iloc[movie_indices].tolist()\n",
    "\n",
    "# Example usage\n",
    "print(recommend_movie('Toy Story (1995)'))"
   ]
  },
  {
   "cell_type": "code",
   "execution_count": null,
   "id": "0041e3eb-f909-4e29-8ad9-0acdaa7e3fdc",
   "metadata": {},
   "outputs": [],
   "source": [
    "def recommend_by_genre1(genre_name):\n",
    "    # Find movies containing the specified genre\n",
    "    similar_movies = movies_unique[movies_unique['genres'].str.contains(genre_name, case=False, na=False)]\n",
    "\n",
    "    if similar_movies.empty:\n",
    "        return [\"No movies found for this genre.\"]\n",
    "\n",
    "    return similar_movies['title'].head(10).tolist()\n"
   ]
  },
  {
   "cell_type": "code",
   "execution_count": null,
   "id": "5570ae31-7bf8-4b43-93e4-f6d1fc8874cc",
   "metadata": {},
   "outputs": [
    {
     "name": "stdout",
     "output_type": "stream",
     "text": [
      "['Pulp Fiction (1994)', 'M (1931)', 'Gattaca (1997)', 'City of God (Cidade de Deus) (2002)', 'Bad Education (La mala educación) (2004)', 'Clear and Present Danger (1994)', 'True Lies (1994)', 'Fugitive, The (1993)', 'Jurassic Park (1993)', 'Rock, The (1996)']\n"
     ]
    }
   ],
   "source": [
    "print(recommend_by_genre1('Thriller'))"
   ]
  },
  {
   "cell_type": "code",
   "execution_count": null,
   "id": "24da3cca-a200-4ff8-832d-7e01d43f991d",
   "metadata": {},
   "outputs": [],
   "source": []
  }
 ],
 "metadata": {
  "kernelspec": {
   "display_name": "Python 3 (ipykernel)",
   "language": "python",
   "name": "python3"
  },
  "language_info": {
   "codemirror_mode": {
    "name": "ipython",
    "version": 3
   },
   "file_extension": ".py",
   "mimetype": "text/x-python",
   "name": "python",
   "nbconvert_exporter": "python",
   "pygments_lexer": "ipython3",
   "version": "3.13.1"
  }
 },
 "nbformat": 4,
 "nbformat_minor": 5
}
